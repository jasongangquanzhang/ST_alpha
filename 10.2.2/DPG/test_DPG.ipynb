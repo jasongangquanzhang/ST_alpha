{
 "cells": [
  {
   "cell_type": "code",
   "execution_count": null,
   "id": "6e31f33d",
   "metadata": {},
   "outputs": [],
   "source": [
    "from standard_env import StandardEnv\n",
    "from standard_DPG_random import DPGAgent\n",
    "\n",
    "\n",
    "env = StandardEnv(\n",
    "    T = 300,\n",
    "    I_max = 20,\n",
    "    lambd = 50/300,\n",
    "    Delta = 0.01,\n",
    "    phi = 1e-6,\n",
    "    varphi = 1e-4,\n",
    "    sigma = 1e-3,\n",
    "    gamma = 0.999,\n",
    "    S_0 = 20,\n",
    "    X_0 = 0,\n",
    "    q_0 = 0,\n",
    "    reward_type='default'  # Reward type: 'indicator' or 'default'\n",
    ")\n",
    "agent = DPGAgent(env=env, gamma=0.99, lr=1e-6, n_layers=4, n_nodes=24, name=\"test\")\n"
   ]
  },
  {
   "cell_type": "code",
   "execution_count": null,
   "id": "1315a429",
   "metadata": {},
   "outputs": [],
   "source": [
    "agent.run_strategy(\n",
    "    nsims=10,)  # Number of simulations"
   ]
  },
  {
   "cell_type": "code",
   "execution_count": null,
   "id": "144e2536",
   "metadata": {},
   "outputs": [],
   "source": [
    "agent.train(n_iter=5000, n_plot=200,mini_batch_size=1, n_iter_Q=1, n_iter_pi=1)"
   ]
  },
  {
   "cell_type": "code",
   "execution_count": null,
   "id": "15cc83a6",
   "metadata": {},
   "outputs": [],
   "source": [
    "agent.plot_policy()"
   ]
  }
 ],
 "metadata": {
  "kernelspec": {
   "display_name": "hft",
   "language": "python",
   "name": "python3"
  },
  "language_info": {
   "codemirror_mode": {
    "name": "ipython",
    "version": 3
   },
   "file_extension": ".py",
   "mimetype": "text/x-python",
   "name": "python",
   "nbconvert_exporter": "python",
   "pygments_lexer": "ipython3",
   "version": "3.12.9"
  }
 },
 "nbformat": 4,
 "nbformat_minor": 5
}
