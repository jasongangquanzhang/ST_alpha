{
 "cells": [
  {
   "cell_type": "code",
   "execution_count": 1,
   "id": "f919e3de",
   "metadata": {},
   "outputs": [],
   "source": [
    "from ST_alpha_env import ST_alpha_env\n",
    "from ShortTermalpha import ShortTermalpha\n",
    "from ST_alpha_DDQN import ST_alpha_DDQN\n",
    "import numpy as np\n",
    "import torch\n",
    "import matplotlib.pyplot as plt\n",
    "short_term_alpha = ShortTermalpha(zeta=1, epsilon=0.002, eta=0.01)\n",
    "\n",
    "env = ST_alpha_env(\n",
    "    ShortTermalpha=short_term_alpha,\n",
    "    nu=0,\n",
    "    T=60,\n",
    "    POV=0.05,\n",
    "    Nq=20,\n",
    "    S_0=30,\n",
    "    X_0=0,\n",
    "    q_0=0,\n",
    "    Delta=0.01,\n",
    "    varphi=0.001,\n",
    "    phi=0,\n",
    "    sigma=0.01,\n",
    ")\n",
    "agent = ST_alpha_DDQN(env=env, gamma=0.9999, lr=1e-4, n_layers=6, n_nodes=36, name=\"test\")"
   ]
  },
  {
   "cell_type": "code",
   "execution_count": null,
   "id": "b60fa553",
   "metadata": {},
   "outputs": [],
   "source": [
    "# agent.run_strategy(nsims= 1000)\n",
    "agent.train(n_iter=5000, n_plot=200, n_iter_Q=5)"
   ]
  }
 ],
 "metadata": {
  "kernelspec": {
   "display_name": "hft",
   "language": "python",
   "name": "python3"
  },
  "language_info": {
   "codemirror_mode": {
    "name": "ipython",
    "version": 3
   },
   "file_extension": ".py",
   "mimetype": "text/x-python",
   "name": "python",
   "nbconvert_exporter": "python",
   "pygments_lexer": "ipython3",
   "version": "3.12.9"
  }
 },
 "nbformat": 4,
 "nbformat_minor": 5
}
