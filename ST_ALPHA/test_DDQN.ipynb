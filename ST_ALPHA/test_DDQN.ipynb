{
 "cells": [
  {
   "cell_type": "code",
   "execution_count": null,
   "id": "f919e3de",
   "metadata": {},
   "outputs": [],
   "source": [
    "from ST_alpha_env import ST_alpha_env\n",
    "from ShortTermalpha import ShortTermalpha\n",
    "from ST_alpha_DDQN import ST_alpha_DDQN\n",
    "import os\n",
    "short_term_alpha = ShortTermalpha(zeta=0.5, epsilon=0.005, eta=0.001)\n",
    "\n",
    "env = ST_alpha_env(\n",
    "    ShortTermalpha=short_term_alpha,\n",
    "    nu=0,\n",
    "    T=60,\n",
    "    POV=0.2,\n",
    "    Nq=20,\n",
    "    S_0=30,\n",
    "    X_0=0,\n",
    "    q_0=0,\n",
    "    gamma=1,\n",
    "    Delta=0.03,\n",
    "    varphi=0.01,\n",
    "    phi=0,\n",
    "    sigma=0.01,\n",
    "    reward_scale=1\n",
    ")\n",
    "agent = ST_alpha_DDQN(env=env, gamma=0.99, lr=1e-4, n_layers=6, n_nodes=128, name=\"test\")"
   ]
  },
  {
   "cell_type": "code",
   "execution_count": null,
   "id": "b60fa553",
   "metadata": {},
   "outputs": [],
   "source": [
    "# agent.run_strategy(nsims= 1000)\n",
    "agent.train(n_iter=10000, n_plot=2000, mini_batch_size=256,n_iter_Q=5)\n",
    "message = \"ok\"\n",
    "os.system(f'say \"{message}\"')"
   ]
  }
 ],
 "metadata": {
  "kernelspec": {
   "display_name": "mlrl-env",
   "language": "python",
   "name": "python3"
  },
  "language_info": {
   "codemirror_mode": {
    "name": "ipython",
    "version": 3
   },
   "file_extension": ".py",
   "mimetype": "text/x-python",
   "name": "python",
   "nbconvert_exporter": "python",
   "pygments_lexer": "ipython3",
   "version": "3.10.18"
  }
 },
 "nbformat": 4,
 "nbformat_minor": 5
}
