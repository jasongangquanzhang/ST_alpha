{
 "cells": [
  {
   "cell_type": "code",
   "execution_count": null,
   "id": "be37b3d9",
   "metadata": {},
   "outputs": [],
   "source": [
    "from ST_alpha_env import ST_alpha_env, ST_alpha_env_Telescoping\n",
    "from ShortTermalpha import ShortTermalpha\n",
    "from ST_alpha_DPG import ST_alpha_DPGAgent\n",
    "import numpy as np\n",
    "import torch\n",
    "import os\n",
    "import matplotlib.pyplot as plt\n",
    "\n",
    "short_term_alpha = ShortTermalpha(zeta=0.5, epsilon=0.005, eta=0.001)\n",
    "\n",
    "env = ST_alpha_env(\n",
    "    ShortTermalpha=short_term_alpha,\n",
    "    nu=0,\n",
    "    T=60,\n",
    "    POV=0.2,\n",
    "    Nq=20,\n",
    "    S_0=30,\n",
    "    X_0=0,\n",
    "    q_0=0,\n",
    "    gamma=1,\n",
    "    Delta=0.03,\n",
    "    varphi=0.01,\n",
    "    phi=0,\n",
    "    sigma=0.01,\n",
    "    reward_scale=1\n",
    ")\n",
    "tenv = ST_alpha_env_Telescoping(\n",
    "    ShortTermalpha=short_term_alpha,\n",
    "    nu=0,\n",
    "    T=60,\n",
    "    POV=0.2,\n",
    "    Nq=20,\n",
    "    S_0=30,\n",
    "    X_0=0,\n",
    "    q_0=0,\n",
    "    gamma=1,\n",
    "    Delta=0.01,\n",
    "    varphi=0.01,\n",
    "    phi=0,\n",
    "    sigma=0.01,\n",
    "    reward_scale=1\n",
    ")\n",
    "agent = ST_alpha_DPGAgent(\n",
    "    env=env,\n",
    "    gamma=0.99,\n",
    "    lr_q=1e-4,\n",
    "    lr_p=1e-4,\n",
    "    n_layers=6,\n",
    "    n_nodes=128,\n",
    "    exploration_p=0.03,\n",
    "    terminal_frac=0.4,\n",
    "    name=\"test\",\n",
    ")"
   ]
  },
  {
   "cell_type": "code",
   "execution_count": null,
   "id": "12acb304",
   "metadata": {},
   "outputs": [],
   "source": [
    "# agent.run_strategy(nsims= 1000)\n",
    "agent.train(n_iter=10000, n_plot=1000, mini_batch_size=128, n_iter_Q=5, n_iter_pi=5)\n",
    "message = \"ok\"\n",
    "os.system(f'say \"{message}\"')"
   ]
  }
 ],
 "metadata": {
  "kernelspec": {
   "display_name": "hft",
   "language": "python",
   "name": "python3"
  },
  "language_info": {
   "codemirror_mode": {
    "name": "ipython",
    "version": 3
   },
   "file_extension": ".py",
   "mimetype": "text/x-python",
   "name": "python",
   "nbconvert_exporter": "python",
   "pygments_lexer": "ipython3",
   "version": "3.12.9"
  }
 },
 "nbformat": 4,
 "nbformat_minor": 5
}
